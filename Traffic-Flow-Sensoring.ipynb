{
 "cells": [
  {
   "cell_type": "code",
   "execution_count": 111,
   "id": "ac68b238",
   "metadata": {},
   "outputs": [],
   "source": [
    "import pandas as pd\n",
    "import matplotlib.pyplot as plt\n",
    "import seaborn as sns\n",
    "import numpy as np \n",
    "\n",
    "from sklearn.tree import DecisionTreeRegressor\n",
    "from sklearn.metrics import classification_report, confusion_matrix\n",
    "from sklearn.preprocessing import MinMaxScaler\n",
    "from sklearn.model_selection import train_test_split, cross_val_score\n",
    "\n",
    "from sklearn.metrics import r2_score\n",
    "from sklearn.metrics import mean_squared_error"
   ]
  },
  {
   "cell_type": "markdown",
   "id": "c9c493d8",
   "metadata": {},
   "source": [
    "## Read CSV"
   ]
  },
  {
   "cell_type": "code",
   "execution_count": 112,
   "id": "f6029216",
   "metadata": {},
   "outputs": [
    {
     "name": "stdout",
     "output_type": "stream",
     "text": [
      "<class 'pandas.core.frame.DataFrame'>\n",
      "RangeIndex: 1578 entries, 0 to 1577\n",
      "Data columns (total 8 columns):\n",
      " #   Column              Non-Null Count  Dtype  \n",
      "---  ------              --------------  -----  \n",
      " 0   frc                 1578 non-null   object \n",
      " 1   currentSpeed        1578 non-null   int64  \n",
      " 2   freeFlowSpeed       1578 non-null   int64  \n",
      " 3   currentTravelTime   1578 non-null   int64  \n",
      " 4   freeFlowTravelTime  1578 non-null   int64  \n",
      " 5   confidence          1578 non-null   float64\n",
      " 6   roadClosure         1578 non-null   bool   \n",
      " 7   timestamp           1578 non-null   object \n",
      "dtypes: bool(1), float64(1), int64(4), object(2)\n",
      "memory usage: 88.0+ KB\n"
     ]
    }
   ],
   "source": [
    "convert = pd.read_csv('RotundaUniversidade.csv', sep = ',', encoding = 'utf-8')\n",
    "convert.head()\n",
    "convert.info()"
   ]
  },
  {
   "cell_type": "markdown",
   "id": "86b175b0",
   "metadata": {},
   "source": [
    "## Fix timestamp"
   ]
  },
  {
   "cell_type": "code",
   "execution_count": 113,
   "id": "bd65e19f",
   "metadata": {},
   "outputs": [
    {
     "data": {
      "text/html": [
       "<div>\n",
       "<style scoped>\n",
       "    .dataframe tbody tr th:only-of-type {\n",
       "        vertical-align: middle;\n",
       "    }\n",
       "\n",
       "    .dataframe tbody tr th {\n",
       "        vertical-align: top;\n",
       "    }\n",
       "\n",
       "    .dataframe thead th {\n",
       "        text-align: right;\n",
       "    }\n",
       "</style>\n",
       "<table border=\"1\" class=\"dataframe\">\n",
       "  <thead>\n",
       "    <tr style=\"text-align: right;\">\n",
       "      <th></th>\n",
       "      <th>frc</th>\n",
       "      <th>currentSpeed</th>\n",
       "      <th>freeFlowSpeed</th>\n",
       "      <th>currentTravelTime</th>\n",
       "      <th>freeFlowTravelTime</th>\n",
       "      <th>confidence</th>\n",
       "      <th>roadClosure</th>\n",
       "      <th>timestamp</th>\n",
       "    </tr>\n",
       "  </thead>\n",
       "  <tbody>\n",
       "    <tr>\n",
       "      <th>0</th>\n",
       "      <td>FRC2</td>\n",
       "      <td>33</td>\n",
       "      <td>44</td>\n",
       "      <td>51</td>\n",
       "      <td>38</td>\n",
       "      <td>0.96</td>\n",
       "      <td>False</td>\n",
       "      <td>2021-04-26 15</td>\n",
       "    </tr>\n",
       "    <tr>\n",
       "      <th>1</th>\n",
       "      <td>FRC2</td>\n",
       "      <td>44</td>\n",
       "      <td>44</td>\n",
       "      <td>38</td>\n",
       "      <td>38</td>\n",
       "      <td>0.95</td>\n",
       "      <td>False</td>\n",
       "      <td>2021-04-26 15</td>\n",
       "    </tr>\n",
       "    <tr>\n",
       "      <th>2</th>\n",
       "      <td>FRC2</td>\n",
       "      <td>44</td>\n",
       "      <td>44</td>\n",
       "      <td>38</td>\n",
       "      <td>38</td>\n",
       "      <td>0.95</td>\n",
       "      <td>False</td>\n",
       "      <td>2021-04-26 15</td>\n",
       "    </tr>\n",
       "    <tr>\n",
       "      <th>3</th>\n",
       "      <td>FRC2</td>\n",
       "      <td>44</td>\n",
       "      <td>44</td>\n",
       "      <td>38</td>\n",
       "      <td>38</td>\n",
       "      <td>0.95</td>\n",
       "      <td>False</td>\n",
       "      <td>2021-04-26 15</td>\n",
       "    </tr>\n",
       "    <tr>\n",
       "      <th>4</th>\n",
       "      <td>FRC2</td>\n",
       "      <td>32</td>\n",
       "      <td>43</td>\n",
       "      <td>53</td>\n",
       "      <td>39</td>\n",
       "      <td>0.97</td>\n",
       "      <td>False</td>\n",
       "      <td>2021-04-26 15</td>\n",
       "    </tr>\n",
       "  </tbody>\n",
       "</table>\n",
       "</div>"
      ],
      "text/plain": [
       "    frc  currentSpeed  freeFlowSpeed  currentTravelTime  freeFlowTravelTime  \\\n",
       "0  FRC2            33             44                 51                  38   \n",
       "1  FRC2            44             44                 38                  38   \n",
       "2  FRC2            44             44                 38                  38   \n",
       "3  FRC2            44             44                 38                  38   \n",
       "4  FRC2            32             43                 53                  39   \n",
       "\n",
       "   confidence  roadClosure      timestamp  \n",
       "0        0.96        False  2021-04-26 15  \n",
       "1        0.95        False  2021-04-26 15  \n",
       "2        0.95        False  2021-04-26 15  \n",
       "3        0.95        False  2021-04-26 15  \n",
       "4        0.97        False  2021-04-26 15  "
      ]
     },
     "execution_count": 113,
     "metadata": {},
     "output_type": "execute_result"
    }
   ],
   "source": [
    "convert['timestamp'] = convert['timestamp'].apply(lambda x: x[:-3])\n",
    "convert.head()"
   ]
  },
  {
   "cell_type": "code",
   "execution_count": 114,
   "id": "2778d4ba",
   "metadata": {},
   "outputs": [
    {
     "name": "stdout",
     "output_type": "stream",
     "text": [
      "<class 'pandas.core.frame.DataFrame'>\n",
      "RangeIndex: 1578 entries, 0 to 1577\n",
      "Data columns (total 8 columns):\n",
      " #   Column              Non-Null Count  Dtype  \n",
      "---  ------              --------------  -----  \n",
      " 0   frc                 1578 non-null   object \n",
      " 1   currentSpeed        1578 non-null   int64  \n",
      " 2   freeFlowSpeed       1578 non-null   int64  \n",
      " 3   currentTravelTime   1578 non-null   int64  \n",
      " 4   freeFlowTravelTime  1578 non-null   int64  \n",
      " 5   confidence          1578 non-null   float64\n",
      " 6   roadClosure         1578 non-null   bool   \n",
      " 7   timestamp           1578 non-null   object \n",
      "dtypes: bool(1), float64(1), int64(4), object(2)\n",
      "memory usage: 88.0+ KB\n"
     ]
    }
   ],
   "source": [
    "convert.info()"
   ]
  },
  {
   "cell_type": "code",
   "execution_count": 115,
   "id": "3aa87ae9",
   "metadata": {},
   "outputs": [
    {
     "data": {
      "text/html": [
       "<div>\n",
       "<style scoped>\n",
       "    .dataframe tbody tr th:only-of-type {\n",
       "        vertical-align: middle;\n",
       "    }\n",
       "\n",
       "    .dataframe tbody tr th {\n",
       "        vertical-align: top;\n",
       "    }\n",
       "\n",
       "    .dataframe thead th {\n",
       "        text-align: right;\n",
       "    }\n",
       "</style>\n",
       "<table border=\"1\" class=\"dataframe\">\n",
       "  <thead>\n",
       "    <tr style=\"text-align: right;\">\n",
       "      <th></th>\n",
       "      <th>frc</th>\n",
       "      <th>currentSpeed</th>\n",
       "      <th>freeFlowSpeed</th>\n",
       "      <th>currentTravelTime</th>\n",
       "      <th>freeFlowTravelTime</th>\n",
       "      <th>confidence</th>\n",
       "      <th>roadClosure</th>\n",
       "      <th>timestamp</th>\n",
       "    </tr>\n",
       "  </thead>\n",
       "  <tbody>\n",
       "    <tr>\n",
       "      <th>0</th>\n",
       "      <td>FRC2</td>\n",
       "      <td>33</td>\n",
       "      <td>44</td>\n",
       "      <td>51</td>\n",
       "      <td>38</td>\n",
       "      <td>0.96</td>\n",
       "      <td>False</td>\n",
       "      <td>2021-04-26 15</td>\n",
       "    </tr>\n",
       "    <tr>\n",
       "      <th>1</th>\n",
       "      <td>FRC2</td>\n",
       "      <td>44</td>\n",
       "      <td>44</td>\n",
       "      <td>38</td>\n",
       "      <td>38</td>\n",
       "      <td>0.95</td>\n",
       "      <td>False</td>\n",
       "      <td>2021-04-26 15</td>\n",
       "    </tr>\n",
       "    <tr>\n",
       "      <th>2</th>\n",
       "      <td>FRC2</td>\n",
       "      <td>44</td>\n",
       "      <td>44</td>\n",
       "      <td>38</td>\n",
       "      <td>38</td>\n",
       "      <td>0.95</td>\n",
       "      <td>False</td>\n",
       "      <td>2021-04-26 15</td>\n",
       "    </tr>\n",
       "    <tr>\n",
       "      <th>3</th>\n",
       "      <td>FRC2</td>\n",
       "      <td>44</td>\n",
       "      <td>44</td>\n",
       "      <td>38</td>\n",
       "      <td>38</td>\n",
       "      <td>0.95</td>\n",
       "      <td>False</td>\n",
       "      <td>2021-04-26 15</td>\n",
       "    </tr>\n",
       "    <tr>\n",
       "      <th>4</th>\n",
       "      <td>FRC2</td>\n",
       "      <td>32</td>\n",
       "      <td>43</td>\n",
       "      <td>53</td>\n",
       "      <td>39</td>\n",
       "      <td>0.97</td>\n",
       "      <td>False</td>\n",
       "      <td>2021-04-26 15</td>\n",
       "    </tr>\n",
       "  </tbody>\n",
       "</table>\n",
       "</div>"
      ],
      "text/plain": [
       "    frc  currentSpeed  freeFlowSpeed  currentTravelTime  freeFlowTravelTime  \\\n",
       "0  FRC2            33             44                 51                  38   \n",
       "1  FRC2            44             44                 38                  38   \n",
       "2  FRC2            44             44                 38                  38   \n",
       "3  FRC2            44             44                 38                  38   \n",
       "4  FRC2            32             43                 53                  39   \n",
       "\n",
       "   confidence  roadClosure      timestamp  \n",
       "0        0.96        False  2021-04-26 15  \n",
       "1        0.95        False  2021-04-26 15  \n",
       "2        0.95        False  2021-04-26 15  \n",
       "3        0.95        False  2021-04-26 15  \n",
       "4        0.97        False  2021-04-26 15  "
      ]
     },
     "execution_count": 115,
     "metadata": {},
     "output_type": "execute_result"
    }
   ],
   "source": [
    "convert.head()"
   ]
  },
  {
   "cell_type": "code",
   "execution_count": 116,
   "id": "5a636720",
   "metadata": {},
   "outputs": [
    {
     "data": {
      "text/html": [
       "<div>\n",
       "<style scoped>\n",
       "    .dataframe tbody tr th:only-of-type {\n",
       "        vertical-align: middle;\n",
       "    }\n",
       "\n",
       "    .dataframe tbody tr th {\n",
       "        vertical-align: top;\n",
       "    }\n",
       "\n",
       "    .dataframe thead th {\n",
       "        text-align: right;\n",
       "    }\n",
       "</style>\n",
       "<table border=\"1\" class=\"dataframe\">\n",
       "  <thead>\n",
       "    <tr style=\"text-align: right;\">\n",
       "      <th></th>\n",
       "      <th>currentSpeed</th>\n",
       "      <th>freeFlowSpeed</th>\n",
       "      <th>currentTravelTime</th>\n",
       "      <th>freeFlowTravelTime</th>\n",
       "      <th>confidence</th>\n",
       "    </tr>\n",
       "  </thead>\n",
       "  <tbody>\n",
       "    <tr>\n",
       "      <th>count</th>\n",
       "      <td>1578.000000</td>\n",
       "      <td>1578.000000</td>\n",
       "      <td>1578.000000</td>\n",
       "      <td>1578.000000</td>\n",
       "      <td>1578.000000</td>\n",
       "    </tr>\n",
       "    <tr>\n",
       "      <th>mean</th>\n",
       "      <td>39.254753</td>\n",
       "      <td>43.690114</td>\n",
       "      <td>45.823194</td>\n",
       "      <td>38.309886</td>\n",
       "      <td>0.954829</td>\n",
       "    </tr>\n",
       "    <tr>\n",
       "      <th>std</th>\n",
       "      <td>7.663235</td>\n",
       "      <td>0.484029</td>\n",
       "      <td>18.916994</td>\n",
       "      <td>0.484029</td>\n",
       "      <td>0.047020</td>\n",
       "    </tr>\n",
       "    <tr>\n",
       "      <th>min</th>\n",
       "      <td>6.000000</td>\n",
       "      <td>42.000000</td>\n",
       "      <td>38.000000</td>\n",
       "      <td>36.000000</td>\n",
       "      <td>0.510000</td>\n",
       "    </tr>\n",
       "    <tr>\n",
       "      <th>25%</th>\n",
       "      <td>34.000000</td>\n",
       "      <td>43.000000</td>\n",
       "      <td>38.000000</td>\n",
       "      <td>38.000000</td>\n",
       "      <td>0.950000</td>\n",
       "    </tr>\n",
       "    <tr>\n",
       "      <th>50%</th>\n",
       "      <td>44.000000</td>\n",
       "      <td>44.000000</td>\n",
       "      <td>38.000000</td>\n",
       "      <td>38.000000</td>\n",
       "      <td>0.970000</td>\n",
       "    </tr>\n",
       "    <tr>\n",
       "      <th>75%</th>\n",
       "      <td>44.000000</td>\n",
       "      <td>44.000000</td>\n",
       "      <td>49.000000</td>\n",
       "      <td>39.000000</td>\n",
       "      <td>0.980000</td>\n",
       "    </tr>\n",
       "    <tr>\n",
       "      <th>max</th>\n",
       "      <td>44.000000</td>\n",
       "      <td>46.000000</td>\n",
       "      <td>282.000000</td>\n",
       "      <td>40.000000</td>\n",
       "      <td>1.000000</td>\n",
       "    </tr>\n",
       "  </tbody>\n",
       "</table>\n",
       "</div>"
      ],
      "text/plain": [
       "       currentSpeed  freeFlowSpeed  currentTravelTime  freeFlowTravelTime  \\\n",
       "count   1578.000000    1578.000000        1578.000000         1578.000000   \n",
       "mean      39.254753      43.690114          45.823194           38.309886   \n",
       "std        7.663235       0.484029          18.916994            0.484029   \n",
       "min        6.000000      42.000000          38.000000           36.000000   \n",
       "25%       34.000000      43.000000          38.000000           38.000000   \n",
       "50%       44.000000      44.000000          38.000000           38.000000   \n",
       "75%       44.000000      44.000000          49.000000           39.000000   \n",
       "max       44.000000      46.000000         282.000000           40.000000   \n",
       "\n",
       "        confidence  \n",
       "count  1578.000000  \n",
       "mean      0.954829  \n",
       "std       0.047020  \n",
       "min       0.510000  \n",
       "25%       0.950000  \n",
       "50%       0.970000  \n",
       "75%       0.980000  \n",
       "max       1.000000  "
      ]
     },
     "execution_count": 116,
     "metadata": {},
     "output_type": "execute_result"
    }
   ],
   "source": [
    "convert.describe()"
   ]
  },
  {
   "cell_type": "code",
   "execution_count": 117,
   "id": "070ef2d3",
   "metadata": {},
   "outputs": [],
   "source": [
    "convert = convert.groupby('timestamp').mean()"
   ]
  },
  {
   "cell_type": "code",
   "execution_count": 118,
   "id": "3daec052",
   "metadata": {},
   "outputs": [
    {
     "data": {
      "text/html": [
       "<div>\n",
       "<style scoped>\n",
       "    .dataframe tbody tr th:only-of-type {\n",
       "        vertical-align: middle;\n",
       "    }\n",
       "\n",
       "    .dataframe tbody tr th {\n",
       "        vertical-align: top;\n",
       "    }\n",
       "\n",
       "    .dataframe thead th {\n",
       "        text-align: right;\n",
       "    }\n",
       "</style>\n",
       "<table border=\"1\" class=\"dataframe\">\n",
       "  <thead>\n",
       "    <tr style=\"text-align: right;\">\n",
       "      <th></th>\n",
       "      <th>currentSpeed</th>\n",
       "      <th>freeFlowSpeed</th>\n",
       "      <th>currentTravelTime</th>\n",
       "      <th>freeFlowTravelTime</th>\n",
       "      <th>confidence</th>\n",
       "      <th>roadClosure</th>\n",
       "    </tr>\n",
       "    <tr>\n",
       "      <th>timestamp</th>\n",
       "      <th></th>\n",
       "      <th></th>\n",
       "      <th></th>\n",
       "      <th></th>\n",
       "      <th></th>\n",
       "      <th></th>\n",
       "    </tr>\n",
       "  </thead>\n",
       "  <tbody>\n",
       "    <tr>\n",
       "      <th>2021-04-26 0</th>\n",
       "      <td>44.000000</td>\n",
       "      <td>44.000000</td>\n",
       "      <td>38.000000</td>\n",
       "      <td>38.000000</td>\n",
       "      <td>0.860000</td>\n",
       "      <td>False</td>\n",
       "    </tr>\n",
       "    <tr>\n",
       "      <th>2021-04-26 15</th>\n",
       "      <td>40.166667</td>\n",
       "      <td>43.833333</td>\n",
       "      <td>42.666667</td>\n",
       "      <td>38.166667</td>\n",
       "      <td>0.958333</td>\n",
       "      <td>False</td>\n",
       "    </tr>\n",
       "    <tr>\n",
       "      <th>2021-04-26 16</th>\n",
       "      <td>38.666667</td>\n",
       "      <td>43.500000</td>\n",
       "      <td>44.833333</td>\n",
       "      <td>38.500000</td>\n",
       "      <td>0.965000</td>\n",
       "      <td>False</td>\n",
       "    </tr>\n",
       "    <tr>\n",
       "      <th>2021-04-26 17</th>\n",
       "      <td>34.000000</td>\n",
       "      <td>43.666667</td>\n",
       "      <td>50.500000</td>\n",
       "      <td>38.333333</td>\n",
       "      <td>0.966667</td>\n",
       "      <td>False</td>\n",
       "    </tr>\n",
       "    <tr>\n",
       "      <th>2021-04-26 18</th>\n",
       "      <td>27.666667</td>\n",
       "      <td>43.500000</td>\n",
       "      <td>61.000000</td>\n",
       "      <td>38.500000</td>\n",
       "      <td>0.970000</td>\n",
       "      <td>False</td>\n",
       "    </tr>\n",
       "  </tbody>\n",
       "</table>\n",
       "</div>"
      ],
      "text/plain": [
       "               currentSpeed  freeFlowSpeed  currentTravelTime  \\\n",
       "timestamp                                                       \n",
       "2021-04-26 0      44.000000      44.000000          38.000000   \n",
       "2021-04-26 15     40.166667      43.833333          42.666667   \n",
       "2021-04-26 16     38.666667      43.500000          44.833333   \n",
       "2021-04-26 17     34.000000      43.666667          50.500000   \n",
       "2021-04-26 18     27.666667      43.500000          61.000000   \n",
       "\n",
       "               freeFlowTravelTime  confidence  roadClosure  \n",
       "timestamp                                                   \n",
       "2021-04-26 0            38.000000    0.860000        False  \n",
       "2021-04-26 15           38.166667    0.958333        False  \n",
       "2021-04-26 16           38.500000    0.965000        False  \n",
       "2021-04-26 17           38.333333    0.966667        False  \n",
       "2021-04-26 18           38.500000    0.970000        False  "
      ]
     },
     "execution_count": 118,
     "metadata": {},
     "output_type": "execute_result"
    }
   ],
   "source": [
    "convert.head()"
   ]
  },
  {
   "cell_type": "code",
   "execution_count": 119,
   "id": "40ccb820",
   "metadata": {},
   "outputs": [],
   "source": [
    "convert = convert.drop(columns = ['roadClosure'])"
   ]
  },
  {
   "cell_type": "markdown",
   "id": "dea62f2b",
   "metadata": {},
   "source": [
    "## Visualize Data "
   ]
  },
  {
   "cell_type": "code",
   "execution_count": 120,
   "id": "310c4bf3",
   "metadata": {},
   "outputs": [
    {
     "data": {
      "image/png": "[encoded data removed]",
      "text/plain": [
       "<Figure size 432x288 with 1 Axes>"
      ]
     },
     "metadata": {
      "needs_background": "light"
     },
     "output_type": "display_data"
    }
   ],
   "source": [
    "df = convert.mean().plot(kind='bar')"
   ]
  },
  {
   "cell_type": "markdown",
   "id": "dc34cf3e",
   "metadata": {},
   "source": [
    "## Normalize data"
   ]
  },
  {
   "cell_type": "code",
   "execution_count": 121,
   "id": "5482e2e1",
   "metadata": {},
   "outputs": [],
   "source": [
    "scaler_freeFlow = MinMaxScaler()\n",
    "scaler_currentTravelTime = MinMaxScaler()\n",
    "scaler_freeFlowTravel = MinMaxScaler()\n",
    "scaler_currentSpeed = MinMaxScaler()\n",
    "\n",
    "\n",
    "convert[['freeFlowSpeed']] =  scaler_freeFlow.fit_transform(convert[['freeFlowSpeed']])\n",
    "convert[['currentTravelTime']] =  scaler_currentTravelTime.fit_transform(convert[['currentTravelTime']])\n",
    "convert[['freeFlowTravelTime']] =  scaler_freeFlowTravel.fit_transform(convert[['freeFlowTravelTime']])\n",
    "convert[['currentSpeed']] =  scaler_currentSpeed.fit_transform(convert[['currentSpeed']])\n"
   ]
  },
  {
   "cell_type": "code",
   "execution_count": 122,
   "id": "d0287ff3",
   "metadata": {},
   "outputs": [
    {
     "data": {
      "text/html": [
       "<div>\n",
       "<style scoped>\n",
       "    .dataframe tbody tr th:only-of-type {\n",
       "        vertical-align: middle;\n",
       "    }\n",
       "\n",
       "    .dataframe tbody tr th {\n",
       "        vertical-align: top;\n",
       "    }\n",
       "\n",
       "    .dataframe thead th {\n",
       "        text-align: right;\n",
       "    }\n",
       "</style>\n",
       "<table border=\"1\" class=\"dataframe\">\n",
       "  <thead>\n",
       "    <tr style=\"text-align: right;\">\n",
       "      <th></th>\n",
       "      <th>currentSpeed</th>\n",
       "      <th>freeFlowSpeed</th>\n",
       "      <th>currentTravelTime</th>\n",
       "      <th>freeFlowTravelTime</th>\n",
       "      <th>confidence</th>\n",
       "    </tr>\n",
       "    <tr>\n",
       "      <th>timestamp</th>\n",
       "      <th></th>\n",
       "      <th></th>\n",
       "      <th></th>\n",
       "      <th></th>\n",
       "      <th></th>\n",
       "    </tr>\n",
       "  </thead>\n",
       "  <tbody>\n",
       "    <tr>\n",
       "      <th>2021-04-26 0</th>\n",
       "      <td>1.000000</td>\n",
       "      <td>1.000000</td>\n",
       "      <td>0.000000</td>\n",
       "      <td>0.000000</td>\n",
       "      <td>0.860000</td>\n",
       "    </tr>\n",
       "    <tr>\n",
       "      <th>2021-04-26 15</th>\n",
       "      <td>0.838028</td>\n",
       "      <td>0.833333</td>\n",
       "      <td>0.057026</td>\n",
       "      <td>0.166667</td>\n",
       "      <td>0.958333</td>\n",
       "    </tr>\n",
       "    <tr>\n",
       "      <th>2021-04-26 16</th>\n",
       "      <td>0.774648</td>\n",
       "      <td>0.500000</td>\n",
       "      <td>0.083503</td>\n",
       "      <td>0.500000</td>\n",
       "      <td>0.965000</td>\n",
       "    </tr>\n",
       "    <tr>\n",
       "      <th>2021-04-26 17</th>\n",
       "      <td>0.577465</td>\n",
       "      <td>0.666667</td>\n",
       "      <td>0.152749</td>\n",
       "      <td>0.333333</td>\n",
       "      <td>0.966667</td>\n",
       "    </tr>\n",
       "    <tr>\n",
       "      <th>2021-04-26 18</th>\n",
       "      <td>0.309859</td>\n",
       "      <td>0.500000</td>\n",
       "      <td>0.281059</td>\n",
       "      <td>0.500000</td>\n",
       "      <td>0.970000</td>\n",
       "    </tr>\n",
       "  </tbody>\n",
       "</table>\n",
       "</div>"
      ],
      "text/plain": [
       "               currentSpeed  freeFlowSpeed  currentTravelTime  \\\n",
       "timestamp                                                       \n",
       "2021-04-26 0       1.000000       1.000000           0.000000   \n",
       "2021-04-26 15      0.838028       0.833333           0.057026   \n",
       "2021-04-26 16      0.774648       0.500000           0.083503   \n",
       "2021-04-26 17      0.577465       0.666667           0.152749   \n",
       "2021-04-26 18      0.309859       0.500000           0.281059   \n",
       "\n",
       "               freeFlowTravelTime  confidence  \n",
       "timestamp                                      \n",
       "2021-04-26 0             0.000000    0.860000  \n",
       "2021-04-26 15            0.166667    0.958333  \n",
       "2021-04-26 16            0.500000    0.965000  \n",
       "2021-04-26 17            0.333333    0.966667  \n",
       "2021-04-26 18            0.500000    0.970000  "
      ]
     },
     "execution_count": 122,
     "metadata": {},
     "output_type": "execute_result"
    }
   ],
   "source": [
    "convert.head()"
   ]
  },
  {
   "cell_type": "code",
   "execution_count": 123,
   "id": "84326763",
   "metadata": {},
   "outputs": [
    {
     "data": {
      "text/html": [
       "<div>\n",
       "<style scoped>\n",
       "    .dataframe tbody tr th:only-of-type {\n",
       "        vertical-align: middle;\n",
       "    }\n",
       "\n",
       "    .dataframe tbody tr th {\n",
       "        vertical-align: top;\n",
       "    }\n",
       "\n",
       "    .dataframe thead th {\n",
       "        text-align: right;\n",
       "    }\n",
       "</style>\n",
       "<table border=\"1\" class=\"dataframe\">\n",
       "  <thead>\n",
       "    <tr style=\"text-align: right;\">\n",
       "      <th></th>\n",
       "      <th>freeFlowSpeed</th>\n",
       "      <th>currentTravelTime</th>\n",
       "      <th>freeFlowTravelTime</th>\n",
       "      <th>confidence</th>\n",
       "    </tr>\n",
       "    <tr>\n",
       "      <th>timestamp</th>\n",
       "      <th></th>\n",
       "      <th></th>\n",
       "      <th></th>\n",
       "      <th></th>\n",
       "    </tr>\n",
       "  </thead>\n",
       "  <tbody>\n",
       "    <tr>\n",
       "      <th>2021-04-26 0</th>\n",
       "      <td>1.000000</td>\n",
       "      <td>0.000000</td>\n",
       "      <td>0.000000</td>\n",
       "      <td>0.860000</td>\n",
       "    </tr>\n",
       "    <tr>\n",
       "      <th>2021-04-26 15</th>\n",
       "      <td>0.833333</td>\n",
       "      <td>0.057026</td>\n",
       "      <td>0.166667</td>\n",
       "      <td>0.958333</td>\n",
       "    </tr>\n",
       "    <tr>\n",
       "      <th>2021-04-26 16</th>\n",
       "      <td>0.500000</td>\n",
       "      <td>0.083503</td>\n",
       "      <td>0.500000</td>\n",
       "      <td>0.965000</td>\n",
       "    </tr>\n",
       "    <tr>\n",
       "      <th>2021-04-26 17</th>\n",
       "      <td>0.666667</td>\n",
       "      <td>0.152749</td>\n",
       "      <td>0.333333</td>\n",
       "      <td>0.966667</td>\n",
       "    </tr>\n",
       "    <tr>\n",
       "      <th>2021-04-26 18</th>\n",
       "      <td>0.500000</td>\n",
       "      <td>0.281059</td>\n",
       "      <td>0.500000</td>\n",
       "      <td>0.970000</td>\n",
       "    </tr>\n",
       "    <tr>\n",
       "      <th>...</th>\n",
       "      <td>...</td>\n",
       "      <td>...</td>\n",
       "      <td>...</td>\n",
       "      <td>...</td>\n",
       "    </tr>\n",
       "    <tr>\n",
       "      <th>2021-05-09 21</th>\n",
       "      <td>1.000000</td>\n",
       "      <td>0.000000</td>\n",
       "      <td>0.000000</td>\n",
       "      <td>0.980000</td>\n",
       "    </tr>\n",
       "    <tr>\n",
       "      <th>2021-05-09 22</th>\n",
       "      <td>1.000000</td>\n",
       "      <td>0.000000</td>\n",
       "      <td>0.000000</td>\n",
       "      <td>0.980000</td>\n",
       "    </tr>\n",
       "    <tr>\n",
       "      <th>2021-05-09 23</th>\n",
       "      <td>1.000000</td>\n",
       "      <td>0.000000</td>\n",
       "      <td>0.000000</td>\n",
       "      <td>0.980000</td>\n",
       "    </tr>\n",
       "    <tr>\n",
       "      <th>2021-05-10 0</th>\n",
       "      <td>1.000000</td>\n",
       "      <td>0.000000</td>\n",
       "      <td>0.000000</td>\n",
       "      <td>0.980000</td>\n",
       "    </tr>\n",
       "    <tr>\n",
       "      <th>2021-05-10 1</th>\n",
       "      <td>1.000000</td>\n",
       "      <td>0.000000</td>\n",
       "      <td>0.000000</td>\n",
       "      <td>0.980000</td>\n",
       "    </tr>\n",
       "  </tbody>\n",
       "</table>\n",
       "<p>187 rows × 4 columns</p>\n",
       "</div>"
      ],
      "text/plain": [
       "               freeFlowSpeed  currentTravelTime  freeFlowTravelTime  \\\n",
       "timestamp                                                             \n",
       "2021-04-26 0        1.000000           0.000000            0.000000   \n",
       "2021-04-26 15       0.833333           0.057026            0.166667   \n",
       "2021-04-26 16       0.500000           0.083503            0.500000   \n",
       "2021-04-26 17       0.666667           0.152749            0.333333   \n",
       "2021-04-26 18       0.500000           0.281059            0.500000   \n",
       "...                      ...                ...                 ...   \n",
       "2021-05-09 21       1.000000           0.000000            0.000000   \n",
       "2021-05-09 22       1.000000           0.000000            0.000000   \n",
       "2021-05-09 23       1.000000           0.000000            0.000000   \n",
       "2021-05-10 0        1.000000           0.000000            0.000000   \n",
       "2021-05-10 1        1.000000           0.000000            0.000000   \n",
       "\n",
       "               confidence  \n",
       "timestamp                  \n",
       "2021-04-26 0     0.860000  \n",
       "2021-04-26 15    0.958333  \n",
       "2021-04-26 16    0.965000  \n",
       "2021-04-26 17    0.966667  \n",
       "2021-04-26 18    0.970000  \n",
       "...                   ...  \n",
       "2021-05-09 21    0.980000  \n",
       "2021-05-09 22    0.980000  \n",
       "2021-05-09 23    0.980000  \n",
       "2021-05-10 0     0.980000  \n",
       "2021-05-10 1     0.980000  \n",
       "\n",
       "[187 rows x 4 columns]"
      ]
     },
     "execution_count": 123,
     "metadata": {},
     "output_type": "execute_result"
    }
   ],
   "source": [
    "y = convert['currentSpeed']\n",
    "x = convert.drop(columns = ['currentSpeed'])\n",
    "\n",
    "train_x, test_x, train_y, test_y = train_test_split(x, y, test_size = 0.3, random_state = 40, shuffle= False)\n",
    "\n",
    "train_x"
   ]
  },
  {
   "cell_type": "code",
   "execution_count": 124,
   "id": "1e326032",
   "metadata": {},
   "outputs": [
    {
     "name": "stdout",
     "output_type": "stream",
     "text": [
      "<class 'pandas.core.frame.DataFrame'>\n",
      "Index: 268 entries, 2021-04-26 0 to 2021-05-13 9\n",
      "Data columns (total 5 columns):\n",
      " #   Column              Non-Null Count  Dtype  \n",
      "---  ------              --------------  -----  \n",
      " 0   currentSpeed        268 non-null    float64\n",
      " 1   freeFlowSpeed       268 non-null    float64\n",
      " 2   currentTravelTime   268 non-null    float64\n",
      " 3   freeFlowTravelTime  268 non-null    float64\n",
      " 4   confidence          268 non-null    float64\n",
      "dtypes: float64(5)\n",
      "memory usage: 20.7+ KB\n"
     ]
    }
   ],
   "source": [
    "convert.info()"
   ]
  },
  {
   "cell_type": "markdown",
   "id": "fd19972a",
   "metadata": {},
   "source": [
    "## Decision Tree"
   ]
  },
  {
   "cell_type": "code",
   "execution_count": 125,
   "id": "32a1210f",
   "metadata": {},
   "outputs": [
    {
     "name": "stdout",
     "output_type": "stream",
     "text": [
      "[0.71830986 0.92253521 0.71830986 0.5        0.30985915 0.61267606\n",
      " 0.71830986 0.32394366 0.95774648 1.         0.92253521 0.8943662\n",
      " 1.         1.         1.         1.         1.         1.\n",
      " 1.         0.26760563 0.21830986 1.         1.         1.\n",
      " 0.71830986 0.8943662  0.67605634 0.70422535 0.71830986 0.64788732\n",
      " 0.32394366 0.26760563 1.         1.         1.         1.\n",
      " 1.         1.         0.29577465 0.20422535 1.         1.\n",
      " 1.         1.         0.59859155 0.47183099 0.83098592 0.81690141\n",
      " 0.6056338  0.55633803 0.29577465 0.70422535 1.         0.8028169\n",
      " 0.95774648 0.92253521 0.8943662  1.         1.         1.\n",
      " 1.         1.         0.26760563 0.30985915 1.         0.54225352\n",
      " 0.71830986 0.77464789 0.6056338  0.45070423 0.68309859 0.5915493\n",
      " 0.38028169 1.         1.         1.         1.         1.\n",
      " 1.         0.26760563 0.1971831 ]\n"
     ]
    }
   ],
   "source": [
    "model_regression = DecisionTreeRegressor()\n",
    "\n",
    "model_regression.fit(train_x, train_y)\n",
    "predictions = model_regression.predict(test_x)\n",
    "print(predictions)\n",
    "\n",
    "score = model_regression.score(test_x, test_y)"
   ]
  },
  {
   "cell_type": "code",
   "execution_count": 126,
   "id": "b1165b66",
   "metadata": {},
   "outputs": [
    {
     "name": "stdout",
     "output_type": "stream",
     "text": [
      "0.95 accuracy with a standard deviation of 0.06\n"
     ]
    }
   ],
   "source": [
    "scores = cross_val_score(model_regression, x, y, cv=20)\n",
    "\n",
    "print(\"%0.2f accuracy with a standard deviation of %0.2f\" % (scores.mean(), scores.std()))"
   ]
  },
  {
   "cell_type": "markdown",
   "id": "c6ae504e",
   "metadata": {},
   "source": [
    "## Other"
   ]
  },
  {
   "cell_type": "code",
   "execution_count": 127,
   "id": "ed1f09ae",
   "metadata": {
    "scrolled": true
   },
   "outputs": [
    {
     "name": "stdout",
     "output_type": "stream",
     "text": [
      "MSE:  0.05991410735656831\n",
      "Score:  0.9543325351273767\n"
     ]
    }
   ],
   "source": [
    "model_regression_2 = DecisionTreeRegressor()\n",
    "\n",
    "model_regression_2.fit(train_x, train_y)\n",
    "predictions_2 = model_regression_2.predict(test_x)\n",
    "#print(predictions_2)\n",
    "\n",
    "print('MSE: ', np.sqrt(mean_squared_error(test_y,predictions_2))) \n",
    "print('Score: ', r2_score(test_y,predictions_2))"
   ]
  },
  {
   "cell_type": "code",
   "execution_count": 128,
   "id": "c4075f93",
   "metadata": {},
   "outputs": [],
   "source": [
    "[test_y] = scaler_currentSpeed.inverse_transform([test_y])\n",
    "[train_y] = scaler_currentSpeed.inverse_transform([train_y])\n",
    "[predictions_2] = scaler_currentSpeed.inverse_transform([predictions_2])"
   ]
  },
  {
   "cell_type": "markdown",
   "id": "fc090af1",
   "metadata": {},
   "source": [
    "## Predictions"
   ]
  },
  {
   "cell_type": "code",
   "execution_count": 129,
   "id": "fe0a3c8a",
   "metadata": {},
   "outputs": [
    {
     "data": {
      "image/png": "[encoded data removed]",
      "text/plain": [
       "<Figure size 1080x576 with 1 Axes>"
      ]
     },
     "metadata": {
      "needs_background": "light"
     },
     "output_type": "display_data"
    }
   ],
   "source": [
    "plt.figure(figsize = (15, 8))\n",
    "#0h:2\n",
    "plt.plot(range(len(train_y[-24:])), train_y[-24:], label = 'Real', color = '#CBFF4D', \n",
    "             linewidth = 3)\n",
    "#24:48h \n",
    "plt.plot(range(len(train_y[-24:]) - 1, len(train_y [-24:]) + len(test_y[:24]) - 1), test_y[:24], label = 'Real to Predict', \n",
    "             color = '#84DD63', linewidth = 3)\n",
    "#24h:48h\n",
    "plt.plot(range(len(train_y[-24:]) - 1, len(train_y [-24:]) + len(predictions_2[:24]) - 1), predictions_2[:24], label = 'Predicted', \n",
    "              color = '#6BAA75', linestyle= 'dotted',linewidth = 3)\n",
    "plt.title('Current Speed per hour')\n",
    "plt.ylabel('Current Speed Value')\n",
    "plt.xlabel('Hours per day')\n",
    "plt.legend()\n",
    "plt.show()"
   ]
  },
  {
   "cell_type": "code",
   "execution_count": 130,
   "id": "586f3b1c",
   "metadata": {},
   "outputs": [],
   "source": [
    "table_real = pd.DataFrame(train_y[-24:])\n",
    "table_real_to_pred = pd.DataFrame(test_y[:24])\n",
    "table_pred = pd.DataFrame(predictions_2[:24])\n"
   ]
  },
  {
   "cell_type": "code",
   "execution_count": 131,
   "id": "7ab7c3b2",
   "metadata": {},
   "outputs": [],
   "source": [
    "table = pd.DataFrame()\n",
    "table['real'] = train_y[-24:]\n",
    "table['real to predict'] = test_y[:24]\n",
    "table['predicted'] = predictions_2[:24]"
   ]
  },
  {
   "cell_type": "code",
   "execution_count": 132,
   "id": "f23fba09",
   "metadata": {},
   "outputs": [],
   "source": [
    "table.to_csv('./predictions_RotundaUniversidade.csv', index = False, sep=',')"
   ]
  }
 ],
 "metadata": {
  "kernelspec": {
   "display_name": "Python 3 (ipykernel)",
   "language": "python",
   "name": "python3"
  },
  "language_info": {
   "codemirror_mode": {
    "name": "ipython",
    "version": 3
   },
   "file_extension": ".py",
   "mimetype": "text/x-python",
   "name": "python",
   "nbconvert_exporter": "python",
   "pygments_lexer": "ipython3",
   "version": "3.11.7"
  }
 },
 "nbformat": 4,
 "nbformat_minor": 5
}
